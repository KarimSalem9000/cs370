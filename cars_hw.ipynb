{
  "cells": [
    {
      "cell_type": "markdown",
      "metadata": {
        "id": "view-in-github",
        "colab_type": "text"
      },
      "source": [
        "<a href=\"https://colab.research.google.com/github/KarimSalem9000/cs370/blob/main/cars_hw.ipynb\" target=\"_parent\"><img src=\"https://colab.research.google.com/assets/colab-badge.svg\" alt=\"Open In Colab\"/></a>"
      ]
    },
    {
      "cell_type": "markdown",
      "metadata": {
        "id": "FXJT29H4W-U3"
      },
      "source": [
        "# Stochastic Gradient Descent for Linear Regression\n",
        "\n",
        "Predict the miles per gallon from the curb weight and engine size, using Stochastic Gradient Descent and a linear model with L2 regularization. You need to code up SGD yourself such as in [here](https://github.com/ageron/handson-ml3/blob/main/04_training_linear_models.ipynb)."
      ]
    },
    {
      "cell_type": "code",
      "execution_count": null,
      "metadata": {
        "id": "-QgoBlLgW-U5"
      },
      "outputs": [],
      "source": [
        "import pandas as pd\n",
        "import numpy as np\n",
        "import matplotlib.pyplot as plt\n",
        "from sklearn.preprocessing import StandardScaler\n",
        "from sklearn.model_selection import train_test_split\n",
        "from sklearn.linear_model import SGDRegressor\n",
        "from sklearn.metrics import mean_squared_error, r2_score\n",
        "\n",
        "import matplotlib as mpl\n",
        "\n",
        "import sys\n",
        "\n",
        "assert sys.version_info >= (3, 7)\n",
        "\n",
        "from packaging import version\n",
        "import sklearn\n",
        "\n",
        "assert version.parse(sklearn.__version__) >= version.parse(\"1.0.1\")\n",
        "# Replace 'imports-85.csv' with the actual file path if it's not in the current directory\n",
        "dataset_url = \"https://raw.githubusercontent.com/plotly/datasets/master/imports-85.csv\"\n",
        "\n",
        "# Read the CSV file into a Pandas DataFrame\n",
        "df = pd.read_csv(dataset_url)\n",
        "\n",
        "# Now, you can work with the 'df' DataFrame as needed\n",
        "pd.set_option('display.max_columns', None)  # Show all columns\n",
        "df.head(10)"
      ]
    },
    {
      "cell_type": "code",
      "execution_count": null,
      "metadata": {
        "id": "VirHW6p5W-U6"
      },
      "outputs": [],
      "source": [
        "target_variable_column = df[['city-mpg']]\n",
        "feature_columns = df[['curb-weight', 'engine-size']]\n",
        "# Convert selected columns to a NumPy array\n",
        "y = target_variable_column.values\n",
        "X = feature_columns.values\n",
        "print(X,y)"
      ]
    },
    {
      "cell_type": "code",
      "source": [
        "from sklearn.preprocessing import add_dummy_feature\n",
        "y_b = add_dummy_feature(y)  # add x0 = 1 to each instance\n",
        "theta_best = np.linalg.inv(X.T @ X) @ X.T @ y_b\n",
        "print(theta_best)"
      ],
      "metadata": {
        "id": "WMoBVRDpX8I3"
      },
      "execution_count": null,
      "outputs": []
    },
    {
      "cell_type": "code",
      "source": [
        "from pathlib import Path\n",
        "\n",
        "IMAGES_PATH = Path() / \"images\" / \"training_linear_models\"\n",
        "IMAGES_PATH.mkdir(parents=True, exist_ok=True)\n",
        "\n",
        "def save_fig(fig_id, tight_layout=True, fig_extension=\"png\", resolution=300):\n",
        "    path = IMAGES_PATH / f\"{fig_id}.{fig_extension}\"\n",
        "    if tight_layout:\n",
        "        plt.tight_layout()\n",
        "    plt.savefig(path, format=fig_extension, dpi=resolution)"
      ],
      "metadata": {
        "id": "JexJSJAOdPc0"
      },
      "execution_count": 62,
      "outputs": []
    },
    {
      "cell_type": "code",
      "source": [
        "X_new = np.array([[0], [2]])\n",
        "X_new_b = add_dummy_feature(X_new)  # add x0 = 1 to each instance\n",
        "y_predict = X_new_b @ theta_best\n",
        "y_predict"
      ],
      "metadata": {
        "id": "1X8M-3juAwg0"
      },
      "execution_count": null,
      "outputs": []
    },
    {
      "cell_type": "code",
      "source": [
        "import matplotlib.pyplot as plt\n",
        "\n",
        "plt.figure(figsize=(6, 4))  # extra code – not needed, just formatting\n",
        "plt.plot(X_new, y_predict, \"r-\", label=\"Predictions\")\n",
        "plt.plot(X, y_b, \"b.\")\n",
        "\n",
        "# extra code – beautifies and saves Figure 4–2\n",
        "plt.xlabel(\"$x_1$\")\n",
        "plt.ylabel(\"$y$\", rotation=0)\n",
        "plt.axis([0, 2, 0, 15])\n",
        "plt.grid()\n",
        "plt.legend(loc=\"upper left\")\n",
        "save_fig(\"linear_model_predictions_plot\")\n",
        "\n",
        "plt.show()"
      ],
      "metadata": {
        "id": "tR3kHLgTd7ih"
      },
      "execution_count": null,
      "outputs": []
    },
    {
      "cell_type": "code",
      "source": [
        "from sklearn.linear_model import LinearRegression\n",
        "\n",
        "lin_reg = LinearRegression()\n",
        "lin_reg.fit(X, y_b)\n",
        "lin_reg.intercept_, lin_reg.coef_"
      ],
      "metadata": {
        "id": "Gm8uX8ahsTMV"
      },
      "execution_count": null,
      "outputs": []
    },
    {
      "cell_type": "code",
      "source": [
        "theta_best_svd, residuals, rank, s = np.linalg.lstsq(X, y_b, rcond=1e-6)\n",
        "theta_best_svd"
      ],
      "metadata": {
        "id": "AMtgR092k7B1"
      },
      "execution_count": null,
      "outputs": []
    },
    {
      "cell_type": "code",
      "source": [
        "np.linalg.pinv(X) @ y_b"
      ],
      "metadata": {
        "id": "Z13TDu16lh4j"
      },
      "execution_count": null,
      "outputs": []
    },
    {
      "cell_type": "code",
      "source": [
        "theta_path_sgd = []"
      ],
      "metadata": {
        "id": "WUZv_7e-lnxo"
      },
      "execution_count": 72,
      "outputs": []
    },
    {
      "cell_type": "code",
      "source": [
        "# extra code – generates and saves Figure 4–8\n",
        "\n",
        "import matplotlib as mpl\n",
        "\n",
        "def plot_gradient_descent(theta, eta):\n",
        "    m = len(X)\n",
        "    plt.plot(X, y, \"b.\")\n",
        "    n_epochs = 1000\n",
        "    n_shown = 20\n",
        "    theta_path = []\n",
        "    for epoch in range(n_epochs):\n",
        "        if epoch < n_shown:\n",
        "            y_predict = X_new_b @ theta\n",
        "            color = mpl.colors.rgb2hex(plt.cm.OrRd(epoch / n_shown + 0.15))\n",
        "            plt.plot(X_new, y_predict, linestyle=\"solid\", color=color)\n",
        "        gradients = 2 / m * X.T @ (X @ theta - y_b)\n",
        "        theta = theta - eta * gradients\n",
        "        theta_path.append(theta)\n",
        "    plt.xlabel(\"$x_1$\")\n",
        "    plt.axis([0, 2, 0, 15])\n",
        "    plt.grid()\n",
        "    plt.title(fr\"$\\eta = {eta}$\")\n",
        "    return theta_path\n",
        "\n",
        "np.random.seed(42)\n",
        "theta = np.random.randn(2, 1)  # random initialization\n",
        "\n",
        "plt.figure(figsize=(10, 4))\n",
        "plt.subplot(131)\n",
        "plot_gradient_descent(theta, eta=0.02)\n",
        "plt.ylabel(\"$y$\", rotation=0)\n",
        "plt.subplot(132)\n",
        "theta_path_bgd = plot_gradient_descent(theta, eta=0.1)\n",
        "plt.gca().axes.yaxis.set_ticklabels([])\n",
        "plt.subplot(133)\n",
        "plt.gca().axes.yaxis.set_ticklabels([])\n",
        "plot_gradient_descent(theta, eta=0.5)\n",
        "save_fig(\"gradient_descent_plot\")\n",
        "plt.show()"
      ],
      "metadata": {
        "id": "z5s_yFwcl_qs"
      },
      "execution_count": null,
      "outputs": []
    },
    {
      "cell_type": "code",
      "source": [
        "n_epochs = 50\n",
        "t0, t1 = 5, 50  # learning schedule hyperparameters\n",
        "\n",
        "def learning_schedule(t):\n",
        "    return t0 / (t + t1)\n",
        "\n",
        "np.random.seed(42)\n",
        "theta = np.random.randn(2, 1)  # random initialization\n",
        "\n",
        "n_shown = 20  # extra code – just needed to generate the figure below\n",
        "plt.figure(figsize=(6, 4))  # extra code – not needed, just formatting\n",
        "\n",
        "for epoch in range(n_epochs):\n",
        "    for iteration in range(m):\n",
        "\n",
        "        # extra code – these 4 lines are used to generate the figure\n",
        "        if epoch == 0 and iteration < n_shown:\n",
        "            y_predict = X_new_b @ theta\n",
        "            color = mpl.colors.rgb2hex(plt.cm.OrRd(iteration / n_shown + 0.15))\n",
        "            plt.plot(X_new, y_predict, color=color)\n",
        "\n",
        "        random_index = np.random.randint(m)\n",
        "        xi = X_b[random_index : random_index + 1]\n",
        "        yi = y[random_index : random_index + 1]\n",
        "        gradients = 2 * xi.T @ (xi @ theta - yi)  # for SGD, do not divide by m\n",
        "        eta = learning_schedule(epoch * m + iteration)\n",
        "        theta = theta - eta * gradients\n",
        "        theta_path_sgd.append(theta)  # extra code – to generate the figure\n",
        "\n",
        "# extra code – this section beautifies and saves Figure 4–10\n",
        "plt.plot(X, y, \"b.\")\n",
        "plt.xlabel(\"$x_1$\")\n",
        "plt.ylabel(\"$y$\", rotation=0)\n",
        "plt.axis([0, 2, 0, 15])\n",
        "plt.grid()\n",
        "save_fig(\"sgd_plot\")\n",
        "plt.show()"
      ],
      "metadata": {
        "id": "ETo4nj-7lrHq"
      },
      "execution_count": null,
      "outputs": []
    },
    {
      "cell_type": "code",
      "source": [
        "theta"
      ],
      "metadata": {
        "id": "dnS8n3efmUjv"
      },
      "execution_count": null,
      "outputs": []
    },
    {
      "cell_type": "code",
      "source": [
        "from sklearn.linear_model import SGDRegressor\n",
        "\n",
        "sgd_reg = SGDRegressor(max_iter=1000, tol=1e-5, penalty=None, eta0=0.01,\n",
        "                       n_iter_no_change=100, random_state=42)\n",
        "sgd_reg.fit(X, y.ravel())  # y.ravel() because fit() expects 1D targets\n"
      ],
      "metadata": {
        "id": "chkZmYZxmVaK"
      },
      "execution_count": null,
      "outputs": []
    },
    {
      "cell_type": "code",
      "source": [
        "sgd_reg.intercept_, sgd_reg.coef_"
      ],
      "metadata": {
        "colab": {
          "base_uri": "https://localhost:8080/"
        },
        "id": "AwpaxLh4mZ9I",
        "outputId": "0ae17556-f0be-4416-d296-cb068ce113fc"
      },
      "execution_count": 79,
      "outputs": [
        {
          "output_type": "execute_result",
          "data": {
            "text/plain": [
              "(array([1.02755184e+11]), array([ 6.68285094e+11, -8.25561229e+11]))"
            ]
          },
          "metadata": {},
          "execution_count": 79
        }
      ]
    }
  ],
  "metadata": {
    "kernelspec": {
      "display_name": "Python 3",
      "language": "python",
      "name": "python3"
    },
    "language_info": {
      "codemirror_mode": {
        "name": "ipython",
        "version": 3
      },
      "file_extension": ".py",
      "mimetype": "text/x-python",
      "name": "python",
      "nbconvert_exporter": "python",
      "pygments_lexer": "ipython3",
      "version": "3.8.10"
    },
    "orig_nbformat": 4,
    "colab": {
      "provenance": [],
      "include_colab_link": true
    }
  },
  "nbformat": 4,
  "nbformat_minor": 0
}